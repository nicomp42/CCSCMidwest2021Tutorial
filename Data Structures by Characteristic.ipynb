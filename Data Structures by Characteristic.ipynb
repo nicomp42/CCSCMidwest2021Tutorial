{
 "cells": [
  {
   "cell_type": "markdown",
   "id": "b6b3b520-1d79-4707-9013-36b604fd1cd5",
   "metadata": {},
   "source": [
    "# Data structures grouped by characteristic"
   ]
  },
  {
   "cell_type": "markdown",
   "id": "c2c2055a-8412-4de5-80ac-b8b470c9dcd4",
   "metadata": {},
   "source": [
    "### Heterogeneity"
   ]
  },
  {
   "cell_type": "code",
   "execution_count": 1,
   "id": "63c418df-3881-44cd-a1be-a9bacc5dfd3f",
   "metadata": {},
   "outputs": [
    {
     "name": "stdout",
     "output_type": "stream",
     "text": [
      "List:  [1, '2', 3.0, True, [100, 200, 300]]\n",
      "Set:  {1, 3.0, '2'}\n",
      "Tuple:  (1, '2', 3.0, True, [100, 200, 300])\n",
      "Dictionary:  {'Key1': 1, 'Key2': '2', 'Key3': 3.0, 'Key4': True, 'Key5': [100, 200, 300]}\n"
     ]
    }
   ],
   "source": [
    "myList = [1,\"2\",3.0,True,[100,200,300]]\n",
    "mySet = {1,\"2\",3.0,True}\n",
    "myTuple = (1,\"2\",3.0,True,[100,200,300])\n",
    "myDictionary = {\"Key1\":1,\"Key2\":\"2\",\"Key3\":3.0,\"Key4\":True,\"Key5\":[100,200,300]}\n",
    "print(\"List: \" , myList)\n",
    "print(\"Set: \" , mySet)\n",
    "print(\"Tuple: \" , myTuple)\n",
    "print(\"Dictionary: \" , myDictionary)"
   ]
  },
  {
   "cell_type": "markdown",
   "id": "ef1db9b1-d885-4444-be4e-c889f7a83ad0",
   "metadata": {},
   "source": [
    "### Indexing"
   ]
  },
  {
   "cell_type": "code",
   "execution_count": 2,
   "id": "1e20d2a4-7bff-4329-be22-1b0defaf6170",
   "metadata": {},
   "outputs": [
    {
     "name": "stdout",
     "output_type": "stream",
     "text": [
      "List:  1\n",
      "Tuple:  1\n",
      "Dictionary:  1\n"
     ]
    }
   ],
   "source": [
    "myList = [1,\"2\",3.0,True,[100,200,300]]\n",
    "mySet = {1,\"2\",3.0,True}\n",
    "myTuple = (1,\"2\",3.0,True,[100,200,300])\n",
    "myDictionary = {\"Key1\":1,\"Key2\":\"2\",\"Key3\":3.0,\"Key4\":True,\"Key5\":[100,200,300]}\n",
    "print(\"List: \" , myList[0])\n",
    "#print(\"Set: \" , mySet[0])\n",
    "print(\"Tuple: \" , myTuple[0])\n",
    "print(\"Dictionary: \" , myDictionary[\"Key1\"])"
   ]
  },
  {
   "cell_type": "markdown",
   "id": "8c82c2e9-5496-4e0a-9bbf-fa1c088a3ed7",
   "metadata": {},
   "source": [
    "### Duplicate elements"
   ]
  },
  {
   "cell_type": "code",
   "execution_count": 3,
   "id": "44ca5a9b-fc9e-4a7d-9d2f-8925e8039413",
   "metadata": {},
   "outputs": [
    {
     "name": "stdout",
     "output_type": "stream",
     "text": [
      "List:  [1, 1, 1, 1, 1]\n",
      "Set:  {1}\n",
      "Tuple:  (1, 1, 1, 1, 1)\n",
      "Dictionary:  {'Key1': [100, 200, 300]}\n"
     ]
    }
   ],
   "source": [
    "# Attempt to add 5 1's to the data structure\n",
    "myList = [1,1,1,1,1]\n",
    "mySet = {1,1,1,1,1,}\n",
    "myTuple = (1,1,1,1,1)\n",
    "myDictionary = {\"Key1\":1,\"Key1\":\"2\",\"Key1\":3.0,\"Key1\":True,\"Key1\":[100,200,300]}\n",
    "print(\"List: \" , myList)\n",
    "print(\"Set: \" , mySet)\n",
    "print(\"Tuple: \" , myTuple)\n",
    "print(\"Dictionary: \" , myDictionary)"
   ]
  },
  {
   "cell_type": "markdown",
   "id": "f349d517-e884-4ccb-8e06-0e542ce6c80b",
   "metadata": {},
   "source": [
    "### Iterating"
   ]
  },
  {
   "cell_type": "code",
   "execution_count": 13,
   "id": "a57dd3a6-1a0e-45ce-b320-d56af1ae7ddc",
   "metadata": {},
   "outputs": [
    {
     "name": "stdout",
     "output_type": "stream",
     "text": [
      "List: 1, 2, 3.0, True, [100, 200, 300], \n",
      "Set: 1, 3.0, 2, \n",
      "Tuple: 1, 2, 3.0, True, [100, 200, 300], \n",
      "Dictionary: 1, 2, 3.0, True, [100, 200, 300], "
     ]
    }
   ],
   "source": [
    "myList = [1,\"2\",3.0,True,[100,200,300]]\n",
    "mySet = {1,\"2\",3.0,True}\n",
    "myTuple = (1,\"2\",3.0,True,[100,200,300])\n",
    "myDictionary = {\"Key1\":1,\"Key2\":\"2\",\"Key3\":3.0,\"Key4\":True,\"Key5\":[100,200,300]}\n",
    "print(\"List: \", end='')\n",
    "for l in myList: print(l, end=', ')\n",
    "print()\n",
    "print(\"Set: \", end='')\n",
    "for s in mySet:  print(s, end=', ')    \n",
    "print()\n",
    "print(\"Tuple: \", end='')\n",
    "for t in myTuple: print (t, end=', ')\n",
    "print()\n",
    "print(\"Dictionary: \", end='')\n",
    "for k in myDictionary: print (myDictionary[k], end=', ')"
   ]
  }
 ],
 "metadata": {
  "kernelspec": {
   "display_name": "Python 3",
   "language": "python",
   "name": "python3"
  },
  "language_info": {
   "codemirror_mode": {
    "name": "ipython",
    "version": 3
   },
   "file_extension": ".py",
   "mimetype": "text/x-python",
   "name": "python",
   "nbconvert_exporter": "python",
   "pygments_lexer": "ipython3",
   "version": "3.8.8"
  }
 },
 "nbformat": 4,
 "nbformat_minor": 5
}
