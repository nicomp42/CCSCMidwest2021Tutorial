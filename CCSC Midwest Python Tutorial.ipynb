{
 "cells": [
  {
   "cell_type": "markdown",
   "id": "28585f2a",
   "metadata": {},
   "source": [
    "# CCSC Midwest: *Python Data Structures for Java Programmers*"
   ]
  },
  {
   "cell_type": "markdown",
   "id": "0483c99d",
   "metadata": {},
   "source": [
    "# List Type"
   ]
  },
  {
   "cell_type": "code",
   "execution_count": 1,
   "id": "4f5165f9",
   "metadata": {},
   "outputs": [
    {
     "name": "stdout",
     "output_type": "stream",
     "text": [
      "<class 'list'>\n",
      "[1, 2, 3, 4, 5, 6, 7]\n"
     ]
    }
   ],
   "source": [
    "# lists are ordered. They can be 'declared' with the [] syntax\n",
    "myList = [1, 2, 3, 4, 5, 6, 7]\n",
    "print(type(myList))\n",
    "print(myList)"
   ]
  },
  {
   "cell_type": "code",
   "execution_count": 2,
   "id": "2986d697",
   "metadata": {},
   "outputs": [
    {
     "name": "stdout",
     "output_type": "stream",
     "text": [
      "[1, 2, 3, 'a', 'b', 'c', 40.5, True]\n"
     ]
    }
   ],
   "source": [
    "# Lists can be heterogenous\n",
    "myList = [1, 2, 3, 'a', 'b', 'c', 40.5, True]\n",
    "print(myList)"
   ]
  },
  {
   "cell_type": "code",
   "execution_count": 3,
   "id": "e90bb265",
   "metadata": {},
   "outputs": [
    {
     "name": "stdout",
     "output_type": "stream",
     "text": [
      "7\n",
      "[7, 7, 8]\n"
     ]
    }
   ],
   "source": [
    "# Lists are ordered and indexable and can contain duplicates\n",
    "myList = [7, 7, 8, 8, 9]\n",
    "print(myList[1])           # 7\n",
    "print(myList [0:3])## Print the elements at index 0, 1 and 2. "
   ]
  },
  {
   "cell_type": "code",
   "execution_count": 4,
   "id": "930a2d67",
   "metadata": {},
   "outputs": [
    {
     "name": "stdout",
     "output_type": "stream",
     "text": [
      "[1, -100, 3, 100]\n"
     ]
    }
   ],
   "source": [
    "# Lists are mutable. Individual elements can be edited. The append method is one way to add elements to a list.\n",
    "myList = [1,2,3]\n",
    "myList[1] = -100\n",
    "myList.append(100)\n",
    "print(myList)"
   ]
  },
  {
   "cell_type": "code",
   "execution_count": 5,
   "id": "aa45c246-416c-4e48-a8f4-b38b1b739a95",
   "metadata": {},
   "outputs": [
    {
     "name": "stdout",
     "output_type": "stream",
     "text": [
      "[1, \"I'm different\", 2, 3]\n"
     ]
    }
   ],
   "source": [
    "# Insert an element into List\n",
    "myList = [1,2,3]\n",
    "myList.insert(1,\"I\\'m different\")\n",
    "print(myList)"
   ]
  },
  {
   "cell_type": "code",
   "execution_count": 6,
   "id": "1bb60b2d-e1e8-4f65-8d6e-47af23ac72ad",
   "metadata": {},
   "outputs": [
    {
     "name": "stdout",
     "output_type": "stream",
     "text": [
      "[1, [-11, -22, -33], 2, 3]\n"
     ]
    }
   ],
   "source": [
    "# Insert a List into a List\n",
    "myList = [1,2,3]\n",
    "myList.insert(1, [-11,-22,-33])\n",
    "print(myList)"
   ]
  },
  {
   "cell_type": "markdown",
   "id": "e6eeac91-feb3-4ca9-bbf5-a9bcbffc4569",
   "metadata": {},
   "source": [
    "### List Class"
   ]
  },
  {
   "cell_type": "code",
   "execution_count": 7,
   "id": "c0f3827e-5795-4d15-9d0f-48610168f236",
   "metadata": {},
   "outputs": [
    {
     "name": "stdout",
     "output_type": "stream",
     "text": [
      "<class 'list'>\n"
     ]
    }
   ],
   "source": [
    "myList = list()\n",
    "print(type(myList))"
   ]
  },
  {
   "cell_type": "markdown",
   "id": "70bff609-e998-4611-987d-b5f69c7c32fa",
   "metadata": {},
   "source": [
    "### List Slicing"
   ]
  },
  {
   "cell_type": "code",
   "execution_count": 8,
   "id": "eb0f161c-5a93-457b-b07f-a4ecc06deddc",
   "metadata": {},
   "outputs": [
    {
     "name": "stdout",
     "output_type": "stream",
     "text": [
      "['The', 'ships', 'hung', 'in', 'the', 'air', 'in', 'much', 'the', 'same', 'way', 'that', 'bricks', \"don't'\"]\n",
      "The last word: don't'\n",
      "Second and third words: ['ships', 'hung']\n",
      "Every other word: ['The', 'hung', 'the', 'in', 'the', 'way', 'bricks']\n",
      "Every other word, starting from the second word: ['ships', 'in', 'air', 'much', 'same', 'that', \"don't'\"]\n",
      "Remove the first and last words: ['ships', 'hung', 'in', 'the', 'air', 'in', 'much', 'the', 'same', 'way', 'that', 'bricks']\n"
     ]
    }
   ],
   "source": [
    "# The colon operator and negative numbers!\n",
    "myList = [\"The\", \"ships\", \"hung\", \"in\", \"the\", \"air\", \"in\", \"much\", \"the\", \"same\", \"way\", \"that\", \"bricks\", \"don\\'t'\"]\n",
    "print(myList)\n",
    "\n",
    "print(\"The last word: \" + str(myList[-1]))\n",
    "\n",
    "print(\"Second and third words: \" + str(myList[1:3]))\n",
    "\n",
    "print(\"Every other word: \" + str(myList[::2]))\n",
    "\n",
    "print(\"Every other word, starting from the second word: \" + str(myList[1::2]))\n",
    "\n",
    "print(\"Remove the first and last words: \" + str(myList[1:-1]))"
   ]
  },
  {
   "cell_type": "markdown",
   "id": "44f5c0aa-d649-47b8-8e2c-d07188bfc42b",
   "metadata": {},
   "source": [
    "### List Highlights"
   ]
  },
  {
   "cell_type": "code",
   "execution_count": 9,
   "id": "181aae05-8df5-4bcc-8528-120c0d41c0ab",
   "metadata": {},
   "outputs": [
    {
     "name": "stdout",
     "output_type": "stream",
     "text": [
      "[999, 1, '2', 3.0, True]\n",
      "Element found\n",
      "0\n",
      "999\n",
      "1\n",
      "2\n",
      "3.0\n",
      "True\n",
      "[]\n"
     ]
    }
   ],
   "source": [
    "myList = [1, \"2\", 3.0, True]\n",
    "myList.append(\"new\")\n",
    "myList.pop()\n",
    "myList.insert(0, 999)\n",
    "print(myList)\n",
    "if  1 in myList:  print (\"Element found\")\n",
    "idx = myList.index(999)\n",
    "print(idx)\n",
    "len(myList)\n",
    "for element in myList: print(element)\n",
    "myList.clear()\n",
    "print(myList)"
   ]
  },
  {
   "cell_type": "markdown",
   "id": "c3d70bbd",
   "metadata": {},
   "source": [
    "# Tuple Type"
   ]
  },
  {
   "cell_type": "code",
   "execution_count": 10,
   "id": "c969ab75",
   "metadata": {},
   "outputs": [
    {
     "name": "stdout",
     "output_type": "stream",
     "text": [
      "5\n",
      "(2, 3, 4, 5)\n"
     ]
    }
   ],
   "source": [
    "# Tuples contain many of the same features as lists but are immutable.\n",
    "# Tuples can be 'declared' with the () syntax.\n",
    "\n",
    "myTuple = (1,1,2,3,4,5)\n",
    "print(myTuple[len(myTuple) - 1]) #Prints the last item in the tuple\n",
    "print(myTuple[2:])#Print the items in the tuple starting from the second index. (2,3,4,5)"
   ]
  },
  {
   "cell_type": "code",
   "execution_count": 11,
   "id": "5bee79db",
   "metadata": {},
   "outputs": [
    {
     "name": "stdout",
     "output_type": "stream",
     "text": [
      "('a', 'b', 'c', 1, 2, 3)\n"
     ]
    }
   ],
   "source": [
    "# Just like lists, tuples can be heterogeneous and contain duplicates\n",
    "myTuple = (\"a\", \"b\", \"c\", 1, 2, 3)\n",
    "print(myTuple)"
   ]
  },
  {
   "cell_type": "markdown",
   "id": "3d2f5f0a-eee0-490b-90a5-8f22ce2267bd",
   "metadata": {},
   "source": [
    "### Slicing "
   ]
  },
  {
   "cell_type": "code",
   "execution_count": 12,
   "id": "539527e5-3166-4131-8eeb-04dc5196807b",
   "metadata": {},
   "outputs": [
    {
     "name": "stdout",
     "output_type": "stream",
     "text": [
      "('c', 1)\n"
     ]
    }
   ],
   "source": [
    "print(myTuple[2:4])"
   ]
  },
  {
   "cell_type": "markdown",
   "id": "26d8241d-8b80-4643-b174-fcc42814a42d",
   "metadata": {},
   "source": [
    "### Tuple Class"
   ]
  },
  {
   "cell_type": "code",
   "execution_count": 13,
   "id": "1c227fc2-ee8f-4e40-a81a-ff70afd19441",
   "metadata": {},
   "outputs": [
    {
     "name": "stdout",
     "output_type": "stream",
     "text": [
      "<class 'tuple'>\n",
      "(1, 2, 3, 4, 5)\n"
     ]
    }
   ],
   "source": [
    "myTuple = tuple()\n",
    "print(type(myTuple))\n",
    "myTuple = tuple([1,2,3,4,5])  # Pass a single argument to the tuple class constructor\n",
    "print(myTuple)"
   ]
  },
  {
   "cell_type": "markdown",
   "id": "23700964-4f3b-4480-8085-dbf83bef0c8b",
   "metadata": {},
   "source": [
    "### Tuple Highlights"
   ]
  },
  {
   "cell_type": "code",
   "execution_count": 14,
   "id": "13afcb8c-befe-4b48-9a65-f266ee3ab732",
   "metadata": {},
   "outputs": [
    {
     "name": "stdout",
     "output_type": "stream",
     "text": [
      "Element found\n",
      "5\n",
      "0\n"
     ]
    }
   ],
   "source": [
    "myTuple = (1,2,3,4,5)\n",
    "if 2 in myTuple:  print (\"Element found\")\n",
    "print(len(myTuple))\n",
    "myTuple = ()\n",
    "print(len(myTuple))"
   ]
  },
  {
   "cell_type": "markdown",
   "id": "3fef2265",
   "metadata": {},
   "source": [
    "# Set Type"
   ]
  },
  {
   "cell_type": "code",
   "execution_count": 15,
   "id": "768bb7fc",
   "metadata": {},
   "outputs": [
    {
     "name": "stdout",
     "output_type": "stream",
     "text": [
      "<class 'set'>\n",
      "{1, 2, 3, 4}\n"
     ]
    }
   ],
   "source": [
    "# Sets can be 'declared' with the {} syntax. They are mutable, but are unordered, not indexable, and cannot contain duplicate values\n",
    "mySet = {1,2,3,4}\n",
    "print(type((mySet)))\n",
    "print(mySet)"
   ]
  },
  {
   "cell_type": "code",
   "execution_count": 16,
   "id": "2c0cae22-6134-4cde-8f8f-38cf644424cd",
   "metadata": {},
   "outputs": [
    {
     "name": "stdout",
     "output_type": "stream",
     "text": [
      "{1, 2, 3, 4}\n"
     ]
    }
   ],
   "source": [
    "# mutable\n",
    "mySet = {1,2,3,4}\n",
    "# mySet[0] = 42   Not indexable/subscriptable\n",
    "print(mySet)"
   ]
  },
  {
   "cell_type": "code",
   "execution_count": 17,
   "id": "fe8703e3",
   "metadata": {},
   "outputs": [
    {
     "name": "stdout",
     "output_type": "stream",
     "text": [
      "{1, 2}\n"
     ]
    }
   ],
   "source": [
    "# While an error is not thrown when you try to add duplicate values to a set, the duplicates are still ignored.\n",
    "mySet = {1,1,1,2,2}\n",
    "print(mySet) ## the set will only contain two values"
   ]
  },
  {
   "cell_type": "code",
   "execution_count": 18,
   "id": "b33ffe60",
   "metadata": {},
   "outputs": [
    {
     "name": "stdout",
     "output_type": "stream",
     "text": [
      "{1, 2, 3, 100, 4}\n"
     ]
    }
   ],
   "source": [
    "mySet = {1,2,3,4}\n",
    "mySet.add(100) # Don't assume that 100 is being added to the end of the set. Remember, sets are unordered.\n",
    "print(mySet)"
   ]
  },
  {
   "cell_type": "markdown",
   "id": "1df1289a-2824-4a10-8cfe-656345827cb6",
   "metadata": {},
   "source": [
    "### Set Class"
   ]
  },
  {
   "cell_type": "code",
   "execution_count": 19,
   "id": "a7de9203-2b4c-456a-a127-dd11ab3c4c25",
   "metadata": {},
   "outputs": [
    {
     "name": "stdout",
     "output_type": "stream",
     "text": [
      "<class 'set'>\n",
      "{1, 2, 3, 4, 5}\n"
     ]
    }
   ],
   "source": [
    "mySet = set([1,2,3,4,5])  # A list passed as a single argument to the set class constructor\n",
    "print(type((mySet)))\n",
    "print(mySet)"
   ]
  },
  {
   "cell_type": "markdown",
   "id": "207ed471",
   "metadata": {},
   "source": [
    "# Dictionary Type"
   ]
  },
  {
   "cell_type": "code",
   "execution_count": 20,
   "id": "c25d4376",
   "metadata": {},
   "outputs": [
    {
     "name": "stdout",
     "output_type": "stream",
     "text": [
      "{'key1': 1, 'key2': 2, 'key3': 3, 'key4': 4}\n",
      "Key found\n",
      "4\n"
     ]
    }
   ],
   "source": [
    "myDictionary = {'key1':1, 'key2':2, 'key3':3 }\n",
    "myDictionary[\"key4\"] = 4\n",
    "print(myDictionary)\n",
    "if \"key2\" in myDictionary: print (\"Key found\")\n",
    "print(len(myDictionary))\n",
    "myDictionary.clear()"
   ]
  },
  {
   "cell_type": "markdown",
   "id": "db5e7113-0109-4a7f-b272-1972bc44cec8",
   "metadata": {},
   "source": [
    "myDictionary = {'Amy':50, 'Josh':25, 'Sarah':42, 'Sarah':100 } # Duplicate keys are overridden by new keys\n",
    "print(myDictionary)"
   ]
  },
  {
   "cell_type": "code",
   "execution_count": 21,
   "id": "7461a87a",
   "metadata": {},
   "outputs": [
    {
     "name": "stdout",
     "output_type": "stream",
     "text": [
      "50\n",
      "{'Amy': 50, 'Josh': 25, 'Isaiah': '21'}\n"
     ]
    }
   ],
   "source": [
    "myDictionary = {'Amy':50, 'Josh':25}\n",
    "print(myDictionary['Amy'])           #Using the key to retrieve the value, in this case 50\n",
    "\n",
    "myDictionary['Isaiah'] = '21'        #No add or append method exists for dictionaries, we simply specify a new key and value and it gets added to the dictionary.\n",
    "print(myDictionary)"
   ]
  },
  {
   "cell_type": "markdown",
   "id": "ff7c91b5-eb14-47f7-9928-76ec8c55c146",
   "metadata": {},
   "source": [
    "### Dictionary Class"
   ]
  },
  {
   "cell_type": "code",
   "execution_count": 22,
   "id": "d728d3b9-1041-4742-9500-348b67fd9c92",
   "metadata": {},
   "outputs": [
    {
     "name": "stdout",
     "output_type": "stream",
     "text": [
      "<class 'dict'>\n"
     ]
    }
   ],
   "source": [
    "myDictionary = dict()\n",
    "print(type(myDictionary))"
   ]
  },
  {
   "cell_type": "markdown",
   "id": "493d47de-044d-4f63-9711-b89f858d0a25",
   "metadata": {},
   "source": [
    "### Dictionary Highlights"
   ]
  },
  {
   "cell_type": "code",
   "execution_count": 23,
   "id": "ad3166e6-a4fb-499a-ab21-5b2c1e46a7f0",
   "metadata": {},
   "outputs": [
    {
     "name": "stdout",
     "output_type": "stream",
     "text": [
      "Key found\n",
      "3\n",
      "key2: 2\n",
      "key3: 3\n",
      "key4: 4\n"
     ]
    }
   ],
   "source": [
    "myDictionary = {\"key1\":1, \"key2\":2, \"key3\":3}\n",
    "myDictionary[\"key4\"] = 4\n",
    "myDictionary.pop(\"key1\")\n",
    "if \"key2\" in myDictionary:  print (\"Key found\")\n",
    "print(len(myDictionary))\n",
    "for key in myDictionary:\n",
    "    print (key + \": \" + str(myDictionary[key]))\n",
    "myDictionary.clear()    "
   ]
  },
  {
   "cell_type": "markdown",
   "id": "dc099ea0-20f8-44b8-a279-f61acfa03a63",
   "metadata": {},
   "source": [
    "# String Type"
   ]
  },
  {
   "cell_type": "code",
   "execution_count": 24,
   "id": "9cf776c5-ccaf-4206-8adc-06742d18cfd5",
   "metadata": {},
   "outputs": [
    {
     "data": {
      "text/plain": [
       "str"
      ]
     },
     "execution_count": 24,
     "metadata": {},
     "output_type": "execute_result"
    }
   ],
   "source": [
    "myString = \"12345\"\n",
    "type(myString)"
   ]
  },
  {
   "cell_type": "markdown",
   "id": "7631db46-44f8-4a7d-ac1c-be640a78bb2d",
   "metadata": {},
   "source": [
    "### Like Java, Strings are immutable. A String object is a reference type. The reference can be copied."
   ]
  },
  {
   "cell_type": "code",
   "execution_count": 25,
   "id": "edf3f82a-1d25-4bb3-bcf2-c5bba698f1ff",
   "metadata": {},
   "outputs": [
    {
     "name": "stdout",
     "output_type": "stream",
     "text": [
      "<class 'str'>\n",
      "myString: I'm different, copyString: 12345\n"
     ]
    }
   ],
   "source": [
    "myString = \"12345\"\n",
    "print(type(myString))\n",
    "copyString = myString\n",
    "myString = \"I\\'m different\"\n",
    "print(\"myString: \" + myString + \", copyString: \" + copyString)"
   ]
  },
  {
   "cell_type": "markdown",
   "id": "68145c3c-1502-44a7-a1dd-12838c4e43be",
   "metadata": {},
   "source": [
    "### Slice"
   ]
  },
  {
   "cell_type": "code",
   "execution_count": 26,
   "id": "744e8ba8-35e6-4924-9f5b-4dfe4dc9e386",
   "metadata": {},
   "outputs": [
    {
     "name": "stdout",
     "output_type": "stream",
     "text": [
      "23\n"
     ]
    }
   ],
   "source": [
    "myString = \"12345\"\n",
    "print(myString[1:3])"
   ]
  },
  {
   "cell_type": "markdown",
   "id": "73c05470-01e1-4d1d-a66c-8738b281dfc1",
   "metadata": {},
   "source": [
    "### String class"
   ]
  },
  {
   "cell_type": "code",
   "execution_count": 27,
   "id": "8da0409d-9b3a-45f8-bbc9-58c5c07dea7d",
   "metadata": {},
   "outputs": [
    {
     "name": "stdout",
     "output_type": "stream",
     "text": [
      "<class 'str'>\n",
      "12345\n"
     ]
    }
   ],
   "source": [
    "myString = str(\"12345\")\n",
    "print(type(myString))\n",
    "print(myString)"
   ]
  },
  {
   "cell_type": "markdown",
   "id": "07558b30-5323-40e7-ac1c-0c65c76eced5",
   "metadata": {},
   "source": [
    "### String Highlights"
   ]
  },
  {
   "cell_type": "code",
   "execution_count": 28,
   "id": "0795c3a6-7937-492a-9540-14e4e6ae0fcd",
   "metadata": {},
   "outputs": [
    {
     "name": "stdout",
     "output_type": "stream",
     "text": [
      "Substring found\n",
      "11\n",
      "H\n",
      "e\n",
      "l\n",
      "l\n",
      "o\n",
      " \n",
      "W\n",
      "o\n",
      "r\n",
      "l\n",
      "d\n"
     ]
    }
   ],
   "source": [
    "myString = \"Hello World\"\n",
    "if \"Hello\" in myString:  print (\"Substring found\")\n",
    "print(len(myString))\n",
    "for c in myString: \n",
    "    print(c)"
   ]
  },
  {
   "cell_type": "markdown",
   "id": "1e80cb91-d674-4ed8-b472-cbc4f2770af4",
   "metadata": {},
   "source": [
    "# An array type is available. It is dynamic, therefore I don't equate it to a Java array."
   ]
  },
  {
   "cell_type": "code",
   "execution_count": 29,
   "id": "e3b5107a-f555-4109-890a-2393427eaac5",
   "metadata": {},
   "outputs": [
    {
     "name": "stdout",
     "output_type": "stream",
     "text": [
      "<class 'array.array'>\n",
      "array('i', [1, 2, 3, 4, 5])\n",
      "array('i', [2, 3, 4])\n",
      "<class 'int'>\n",
      "<class 'array.array'>\n"
     ]
    }
   ],
   "source": [
    "# https://docs.python.org/3/library/array.html\n",
    "import array\n",
    "myArray = array.array('i')       # Unsigned int array\n",
    "print(type(myArray))\n",
    "for num in [1,2,3,4,5]: myArray.append(num)\n",
    "print(myArray)\n",
    "print(myArray[1:4])\n",
    "num = myArray[0]\n",
    "print(type(num))\n",
    "num = myArray[1:4]\n",
    "print(type(num))\n",
    "#myArray[40] = 0    # Error: Index out of range\n",
    "#myArray[0] = 'Hello'  # Error: Integer is required"
   ]
  },
  {
   "cell_type": "markdown",
   "id": "b2fe0512-12ce-4936-acba-1de91af350e3",
   "metadata": {},
   "source": [
    "# Some type conversions"
   ]
  },
  {
   "cell_type": "markdown",
   "id": "28813ce6-7d33-406c-94ae-e693dc56f7cd",
   "metadata": {},
   "source": [
    "### List to set"
   ]
  },
  {
   "cell_type": "code",
   "execution_count": 30,
   "id": "f1a8ecb5-e288-4573-872a-ab5ec0855778",
   "metadata": {},
   "outputs": [
    {
     "name": "stdout",
     "output_type": "stream",
     "text": [
      "{1, 2, 3, 4, 5}\n"
     ]
    }
   ],
   "source": [
    "myList = [1,2,3,4,5,5,5,5] \n",
    "mySet = set(myList)\n",
    "print (mySet)  # Note that dups are gone"
   ]
  },
  {
   "cell_type": "markdown",
   "id": "c5349066-3687-4b90-bae4-1580df05a7f7",
   "metadata": {},
   "source": [
    "### List to dictionary"
   ]
  },
  {
   "cell_type": "code",
   "execution_count": 31,
   "id": "ac43b0d8-d970-47b1-9681-a113c1273348",
   "metadata": {},
   "outputs": [
    {
     "name": "stdout",
     "output_type": "stream",
     "text": [
      "{1: 'some value', 2: 'some value', 3: 'some value', 4: 'some value', 5: 'some value'}\n"
     ]
    }
   ],
   "source": [
    "myList = [1,2,3,4,5,5,5,5]\n",
    "myDictionary = dict.fromkeys(myList, \"some value\")\n",
    "print (myDictionary)  # List elements become keys, dups are gone."
   ]
  },
  {
   "cell_type": "markdown",
   "id": "77d27acf-e77b-481a-8f9c-e62acc70bab6",
   "metadata": {},
   "source": [
    "### List to tuple"
   ]
  },
  {
   "cell_type": "code",
   "execution_count": 32,
   "id": "0baf0acb-c752-4c50-ba8f-923478dcc670",
   "metadata": {},
   "outputs": [
    {
     "name": "stdout",
     "output_type": "stream",
     "text": [
      "(1, 2, 3, 4, 5, 5, 5, 5)\n"
     ]
    }
   ],
   "source": [
    "myList = [1,2,3,4,5,5,5,5]\n",
    "myTuple = tuple(myList)\n",
    "print(myTuple)"
   ]
  },
  {
   "cell_type": "code",
   "execution_count": 33,
   "id": "56e9b483-6231-49da-93d6-2965396405e5",
   "metadata": {},
   "outputs": [],
   "source": [
    "mySet = {1,2,\"hi\"}"
   ]
  },
  {
   "cell_type": "markdown",
   "id": "9f6dd86c-2569-4cd4-950e-b6551c3cda74",
   "metadata": {},
   "source": [
    "# Interesting Features"
   ]
  },
  {
   "cell_type": "code",
   "execution_count": 34,
   "id": "96f39f6e-a120-44e6-bf3a-8e7c83895bf8",
   "metadata": {},
   "outputs": [
    {
     "name": "stdout",
     "output_type": "stream",
     "text": [
      "[1, 2, 3, 4, 5, 1, 2, 3, 4, 5, 1, 2, 3, 4, 5, 1, 2, 3, 4, 5, 1, 2, 3, 4, 5]\n"
     ]
    }
   ],
   "source": [
    "# Reflect a list\n",
    "myList = [1,2,3,4,5]\n",
    "myList = myList * 5\n",
    "print(myList)"
   ]
  },
  {
   "cell_type": "code",
   "execution_count": 35,
   "id": "e9b8322d-1f20-4494-900c-6a093aa66dfd",
   "metadata": {},
   "outputs": [
    {
     "name": "stdout",
     "output_type": "stream",
     "text": [
      "[1, 3, 5, 7, 9]\n"
     ]
    }
   ],
   "source": [
    "# List Comprehension - extract odd numbers from the list\n",
    "myList = [1,2,3,4,5,6,7,8,9,10]\n",
    "myOdds = [x for x in myList if x % 2 == 1]\n",
    "print(myOdds)"
   ]
  },
  {
   "cell_type": "code",
   "execution_count": 36,
   "id": "d742a927-daae-49f7-9431-f9692568f123",
   "metadata": {},
   "outputs": [
    {
     "name": "stdout",
     "output_type": "stream",
     "text": [
      "['electric eel', 'moray eel']\n"
     ]
    }
   ],
   "source": [
    "# List Comprehension - extract with a string filter\n",
    "fishes = [\"bass\", \"perch\", \"goldfish\", \"pike\", \"walleye\", \"puffer fish\", \"electric eel\", \"moray eel\"]\n",
    "newFishes = [fish for fish in fishes if \"eel\" in fish ]\n",
    "print(newFishes)"
   ]
  },
  {
   "cell_type": "code",
   "execution_count": 37,
   "id": "a2472cdc-0fbb-46c6-947b-75e6c6e77b6a",
   "metadata": {},
   "outputs": [
    {
     "name": "stdout",
     "output_type": "stream",
     "text": [
      "['C', 'n', 'c', 'n', 'n', 't', 'B', 'r', 'c', 't', 's', 'w', 'l', 'l', 'b', 't', 'N', 't', 'r', 'D', 'm']\n"
     ]
    }
   ],
   "source": [
    "# List Comprehension - filter out vowels\n",
    "def is_consonant(letter):\n",
    "    vowels = 'aeiou'\n",
    "    return letter.isalpha() and letter.lower() not in vowels\n",
    "\n",
    "sentence = \"Cincinnati Bearcats will beat Notre Dame.\"\n",
    "consonants = [i for i in sentence if is_consonant(i)]\n",
    "print(consonants)"
   ]
  },
  {
   "cell_type": "code",
   "execution_count": 38,
   "id": "19e50153-793b-40be-9f1f-c4ff227856fc",
   "metadata": {},
   "outputs": [
    {
     "name": "stdout",
     "output_type": "stream",
     "text": [
      "['alpha', 'beta', 'delta', 'epsilon', 'zeta']\n",
      "zeta\n",
      "['alpha', 'beta', 'delta', 'epsilon']\n"
     ]
    }
   ],
   "source": [
    "# A list can simulate a LIFO stack. Use append and pop only\n",
    "myList = []\n",
    "myList.append(\"alpha\")\n",
    "myList.append(\"beta\")\n",
    "myList.append(\"delta\")\n",
    "myList.append(\"epsilon\")\n",
    "myList.append(\"zeta\")\n",
    "print(myList)\n",
    "myLetter = myList.pop()\n",
    "print(myLetter)\n",
    "print(myList)"
   ]
  },
  {
   "cell_type": "code",
   "execution_count": 3,
   "id": "79a8b312-b5b4-4cfb-bdfc-8b7ef30ffd2f",
   "metadata": {},
   "outputs": [
    {
     "name": "stdout",
     "output_type": "stream",
     "text": [
      "[1, 4, 9, 16, 25, 36, 49, 64, 81, 100]\n"
     ]
    }
   ],
   "source": [
    "# Compute a list of squares\n",
    "myList = [x*x for x in range(1,11)]\n",
    "print(myList)"
   ]
  },
  {
   "cell_type": "code",
   "execution_count": null,
   "id": "db8e2d54-dbd0-4d20-be18-1bbc99da90bf",
   "metadata": {},
   "outputs": [],
   "source": []
  }
 ],
 "metadata": {
  "kernelspec": {
   "display_name": "Python 3",
   "language": "python",
   "name": "python3"
  },
  "language_info": {
   "codemirror_mode": {
    "name": "ipython",
    "version": 3
   },
   "file_extension": ".py",
   "mimetype": "text/x-python",
   "name": "python",
   "nbconvert_exporter": "python",
   "pygments_lexer": "ipython3",
   "version": "3.8.8"
  }
 },
 "nbformat": 4,
 "nbformat_minor": 5
}
