{
 "cells": [
  {
   "cell_type": "markdown",
   "id": "28585f2a",
   "metadata": {},
   "source": [
    "# CCSC Midwest: *Python Data Structures for Java Programmers*"
   ]
  },
  {
   "cell_type": "markdown",
   "id": "303392f8",
   "metadata": {},
   "source": [
    "## Introduction:"
   ]
  },
  {
   "cell_type": "markdown",
   "id": "f7f14807",
   "metadata": {},
   "source": [
    "> This tutorial introduces Python data structures such as Lists, Sets, Tuples, Strings, and dictionaries. It draws connections to data structures in Java. Attendees will learn how Python data structures differ from and overlap with similar data structures in Java. "
   ]
  },
  {
   "cell_type": "markdown",
   "id": "a3c33791",
   "metadata": {},
   "source": [
    "## Python Vs Java"
   ]
  },
  {
   "cell_type": "markdown",
   "id": "3837f16c",
   "metadata": {},
   "source": [
    "|        \t| Released \t| Compiled         \t| Typing  \t| Object Oriented \t|\n",
    "|--------\t|----------\t|------------------\t|---------\t|-----------------\t|\n",
    "| Java   \t| 1995     \t| Yes              \t| Static  \t| Yes             \t|\n",
    "| Python \t| 1991     \t| No (Interpreted) \t| Dynamic \t| It can be       \t|\n",
    "|        \t|          \t|                  \t|         \t|                 \t|"
   ]
  },
  {
   "cell_type": "markdown",
   "id": "d2f4a1b2",
   "metadata": {},
   "source": [
    "## Primary Python Data Structures"
   ]
  },
  {
   "cell_type": "markdown",
   "id": "0483c99d",
   "metadata": {},
   "source": [
    "## List\n"
   ]
  },
  {
   "cell_type": "markdown",
   "id": "34a423db",
   "metadata": {},
   "source": [
    "### Examples"
   ]
  },
  {
   "cell_type": "code",
   "execution_count": 13,
   "id": "4f5165f9",
   "metadata": {},
   "outputs": [
    {
     "name": "stdout",
     "output_type": "stream",
     "text": [
      "[1, 2, 3, 4, 5, 6, 7]\n"
     ]
    }
   ],
   "source": [
    "#Python lists are ordered. They are denoted with the [] syntax\n",
    "items = [1, 2, 3, 4, 5, 6, 7]\n",
    "print(items)"
   ]
  },
  {
   "cell_type": "code",
   "execution_count": 16,
   "id": "2986d697",
   "metadata": {},
   "outputs": [
    {
     "name": "stdout",
     "output_type": "stream",
     "text": [
      "[1, 2, 3, 'a', 'b', 'c', True]\n"
     ]
    }
   ],
   "source": [
    "#Lists are heterogenous, meaning their elements may be not be of the same data type\n",
    "items = [1, 2, 3, 'a', 'b', 'c', True]\n",
    "print(items)\n"
   ]
  },
  {
   "cell_type": "code",
   "execution_count": 20,
   "id": "e90bb265",
   "metadata": {},
   "outputs": [
    {
     "name": "stdout",
     "output_type": "stream",
     "text": [
      "7\n",
      "[7, 7, 8]\n"
     ]
    }
   ],
   "source": [
    "# Lists are indexable and can contain diplicates\n",
    "items = [7, 7, 8, 8, 9]\n",
    "print(items[1]) ##7\n",
    "print(items [0:3])## Print the elements at index 0, 1 and 2. "
   ]
  },
  {
   "cell_type": "code",
   "execution_count": 6,
   "id": "930a2d67",
   "metadata": {},
   "outputs": [
    {
     "name": "stdout",
     "output_type": "stream",
     "text": [
      "[1, 2, 3, 100]\n"
     ]
    }
   ],
   "source": [
    "# Lists are mutable. The append method is one way to add items to a list.\n",
    "items = [1,2,3]\n",
    "items.append(100)\n",
    "print(items)"
   ]
  },
  {
   "cell_type": "markdown",
   "id": "7a8970eb",
   "metadata": {},
   "source": [
    "**Python List: Java Equivalent(s):**\n",
    "*ArrayList*, *LinkedList*.\n",
    "\n",
    "Both Array Lists and Linked Lists in Java implement the Java List interface. Just like Lists in python, these data structures are mutable, can contain duplicate values, are indexable, and are ordered. *Technically* an Array List and Linked List could be heterogenous just like its Python counterpart, the list. Most of the time however, Java Array Lists and Linked Lists should be paramaterized with a type.\n"
   ]
  },
  {
   "cell_type": "markdown",
   "id": "532594ae",
   "metadata": {},
   "source": [
    "#### Java Heterogeneous Array List\n",
    "\t\tArrayList randomValues =  new ArrayList();\n",
    "\t\trandomValues.add(\"hello\");\n",
    "\t\trandomValues.add(100);\t\t\n",
    "\t\trandomValues.add(100);\n",
    "\t\trandomValues.add(true);\n",
    "\t\tSystem.out.println(randomValues.get(0));\n"
   ]
  },
  {
   "cell_type": "markdown",
   "id": "c3d70bbd",
   "metadata": {},
   "source": [
    "## Tuple\n"
   ]
  },
  {
   "cell_type": "markdown",
   "id": "f9c9354e",
   "metadata": {},
   "source": [
    "### Examples"
   ]
  },
  {
   "cell_type": "code",
   "execution_count": 10,
   "id": "c969ab75",
   "metadata": {},
   "outputs": [
    {
     "name": "stdout",
     "output_type": "stream",
     "text": [
      "5\n",
      "(2, 3, 4, 5)\n"
     ]
    }
   ],
   "source": [
    "# Python tuples contain many of the same features as lists but are immutable.\n",
    "# Python tuples are denoted with the () syntax.\n",
    "\n",
    "items = (1,1,2,3,4,5)\n",
    "print(items[len(items) - 1]) #Prints the last item in the tuple\n",
    "print(items[2:])#Print the items in the tuple starting from the second index. (2,3,4,5)\n",
    "\n"
   ]
  },
  {
   "cell_type": "code",
   "execution_count": 13,
   "id": "5bee79db",
   "metadata": {},
   "outputs": [
    {
     "name": "stdout",
     "output_type": "stream",
     "text": [
      "('a', 'b', 'c', 1, 2, 3)\n"
     ]
    }
   ],
   "source": [
    "# Just like lists, tuples can be heterogeneous and contain duplicates\n",
    "items = (\"a\", \"b\", \"c\", 1, 2, 3)\n",
    "print(items)"
   ]
  },
  {
   "cell_type": "markdown",
   "id": "d375c335",
   "metadata": {},
   "source": [
    "**Python Tuple: Java Equivalent(s):**\n",
    "*Array*\n",
    "\n",
    "While no exact Java equivalents exist, the Array is the closest thing to a Python tuple. In addition, there is a popular tuple library called JavaTuples that you can use by adding a dependency to your Java project. The most significant difference between a tuple and a Java array is that a Java array must be homogenous (contain the same type of data). Still, Java arrays are immutable, can contain duplicates, and are indexable and ordered, all attributes shared with a Python tuple. "
   ]
  },
  {
   "cell_type": "code",
   "execution_count": null,
   "id": "eab0ab08",
   "metadata": {},
   "outputs": [],
   "source": []
  }
 ],
 "metadata": {
  "kernelspec": {
   "display_name": "Python 3",
   "language": "python",
   "name": "python3"
  },
  "language_info": {
   "codemirror_mode": {
    "name": "ipython",
    "version": 3
   },
   "file_extension": ".py",
   "mimetype": "text/x-python",
   "name": "python",
   "nbconvert_exporter": "python",
   "pygments_lexer": "ipython3",
   "version": "3.8.8"
  }
 },
 "nbformat": 4,
 "nbformat_minor": 5
}
