{
 "cells": [
  {
   "cell_type": "markdown",
   "id": "28585f2a",
   "metadata": {},
   "source": [
    "# CCSC Midwest: *Python Data Structures for Java Programmers*"
   ]
  },
  {
   "cell_type": "markdown",
   "id": "303392f8",
   "metadata": {},
   "source": [
    "## Introduction:"
   ]
  },
  {
   "cell_type": "markdown",
   "id": "f7f14807",
   "metadata": {},
   "source": [
    "> This tutorial introduces Python data structures such as Lists, Sets, Tuples, Strings, and dictionaries. It draws connections to data structures in Java. Attendees will learn how Python data structures differ from and overlap with similar data structures in Java. "
   ]
  },
  {
   "cell_type": "markdown",
   "id": "a3c33791",
   "metadata": {},
   "source": [
    "## Python Vs Java"
   ]
  },
  {
   "cell_type": "markdown",
   "id": "3837f16c",
   "metadata": {},
   "source": [
    "|        \t| Released \t| Compiled         \t| Typing  \t| Object Oriented \t|\n",
    "|--------\t|----------\t|------------------\t|---------\t|-----------------\t|\n",
    "| Java   \t| 1995     \t| Yes              \t| Static  \t| Yes             \t|\n",
    "| Python \t| 1991     \t| No (Interpreted) \t| Dynamic \t| It can be       \t|\n",
    "|        \t|          \t|                  \t|         \t|                 \t|"
   ]
  },
  {
   "cell_type": "markdown",
   "id": "d2f4a1b2",
   "metadata": {},
   "source": [
    "## Primary Python Data Structures"
   ]
  },
  {
   "cell_type": "markdown",
   "id": "0483c99d",
   "metadata": {},
   "source": [
    "## List\n"
   ]
  },
  {
   "cell_type": "markdown",
   "id": "34a423db",
   "metadata": {},
   "source": [
    "### Examples"
   ]
  },
  {
   "cell_type": "code",
   "execution_count": 1,
   "id": "4f5165f9",
   "metadata": {},
   "outputs": [
    {
     "name": "stdout",
     "output_type": "stream",
     "text": [
      "[1, 2, 3, 4, 5, 6, 7]\n"
     ]
    }
   ],
   "source": [
    "#Python lists are ordered. They are denoted with the [] syntax\n",
    "items = [1, 2, 3, 4, 5, 6, 7]\n",
    "print(items)"
   ]
  },
  {
   "cell_type": "code",
   "execution_count": 8,
   "id": "2986d697",
   "metadata": {},
   "outputs": [
    {
     "name": "stdout",
     "output_type": "stream",
     "text": [
      "[1, 2, 3, 'a', 'b', 'c', True]\n"
     ]
    }
   ],
   "source": [
    "#Lists are heterogenous, meaning their elements may be not be of the same data type\n",
    "items = [1, 2, 3, 'a', 'b', 'c', True]\n",
    "print(items)\n"
   ]
  },
  {
   "cell_type": "code",
   "execution_count": 9,
   "id": "e90bb265",
   "metadata": {},
   "outputs": [
    {
     "name": "stdout",
     "output_type": "stream",
     "text": [
      "7\n",
      "[7, 7, 8]\n"
     ]
    }
   ],
   "source": [
    "# Lists are indexable and can contain diplicates\n",
    "items = [7, 7, 8, 8, 9]\n",
    "print(items[1]) ##7\n",
    "print(items [0:3])## Print the elements at index 0, 1 and 2. "
   ]
  },
  {
   "cell_type": "code",
   "execution_count": 4,
   "id": "930a2d67",
   "metadata": {},
   "outputs": [
    {
     "name": "stdout",
     "output_type": "stream",
     "text": [
      "[1, 2, 3, 100]\n"
     ]
    }
   ],
   "source": [
    "# Lists are mutable. The append method is one way to add items to a list.\n",
    "items = [1,2,3]\n",
    "items.append(100)\n",
    "print(items)"
   ]
  },
  {
   "cell_type": "markdown",
   "id": "7a8970eb",
   "metadata": {},
   "source": [
    "**Python List: Java Equivalent(s):**\n",
    "*ArrayList*, *LinkedList*.\n",
    "\n",
    "Both Array Lists and Linked Lists in Java implement the Java List interface. Just like Lists in python, these data structures are mutable, can contain duplicate values, are indexable, and are ordered. *Technically* an Array List and Linked List could be heterogenous just like its Python counterpart, the list. Most of the time however, Java Array Lists and Linked Lists should be are usually paramaterized with a type.\n"
   ]
  },
  {
   "cell_type": "markdown",
   "id": "532594ae",
   "metadata": {},
   "source": [
    "#### Java Heterogeneous Array List\n",
    "\t\tArrayList randomValues =  new ArrayList();\n",
    "\t\trandomValues.add(\"hello\");\n",
    "\t\trandomValues.add(100);\t\t\n",
    "\t\trandomValues.add(100);\n",
    "\t\trandomValues.add(true);\n",
    "\t\tSystem.out.println(randomValues.get(0));\n"
   ]
  },
  {
   "cell_type": "markdown",
   "id": "c3d70bbd",
   "metadata": {},
   "source": [
    "## Tuple\n"
   ]
  },
  {
   "cell_type": "markdown",
   "id": "f9c9354e",
   "metadata": {},
   "source": [
    "### Examples"
   ]
  },
  {
   "cell_type": "code",
   "execution_count": 5,
   "id": "c969ab75",
   "metadata": {},
   "outputs": [
    {
     "name": "stdout",
     "output_type": "stream",
     "text": [
      "5\n",
      "(2, 3, 4, 5)\n"
     ]
    }
   ],
   "source": [
    "# Python tuples contain many of the same features as lists but are immutable.\n",
    "# Python tuples are denoted with the () syntax.\n",
    "\n",
    "items = (1,1,2,3,4,5)\n",
    "print(items[len(items) - 1]) #Prints the last item in the tuple\n",
    "print(items[2:])#Print the items in the tuple starting from the second index. (2,3,4,5)\n",
    "\n"
   ]
  },
  {
   "cell_type": "code",
   "execution_count": 6,
   "id": "5bee79db",
   "metadata": {},
   "outputs": [
    {
     "name": "stdout",
     "output_type": "stream",
     "text": [
      "('a', 'b', 'c', 1, 2, 3)\n"
     ]
    }
   ],
   "source": [
    "# Just like lists, tuples can be heterogeneous and contain duplicates\n",
    "items = (\"a\", \"b\", \"c\", 1, 2, 3)\n",
    "print(items)"
   ]
  },
  {
   "cell_type": "markdown",
   "id": "d375c335",
   "metadata": {},
   "source": [
    "**Python Tuple: Java Equivalent(s):**\n",
    "*Array*\n",
    "\n",
    "While no exact Java equivalents exist, the Array is the closest thing to a Python tuple. In addition, there is a popular tuple library called JavaTuples that you can use by adding a dependency to your Java project. The most significant difference between a tuple and a Java array is that a Java array must be homogenous (contain the same type of data). Still, Java arrays are immutable, can contain duplicates, and are indexable and ordered, all attributes shared with a Python tuple. An array list or linked list would not be good analogous data structures because they can change size. "
   ]
  },
  {
   "cell_type": "markdown",
   "id": "3fef2265",
   "metadata": {},
   "source": [
    "## Set"
   ]
  },
  {
   "cell_type": "markdown",
   "id": "4ecdda80",
   "metadata": {},
   "source": [
    "### Examples"
   ]
  },
  {
   "cell_type": "code",
   "execution_count": 13,
   "id": "768bb7fc",
   "metadata": {},
   "outputs": [
    {
     "name": "stdout",
     "output_type": "stream",
     "text": [
      "{1, 2, 3, 4}\n"
     ]
    }
   ],
   "source": [
    "#Python sets are denoted with the {} syntax. They are mutable, but are unordered, not indexable, \n",
    "#and cannot contain duplicate values\n",
    "items = {1,2,3,4}\n",
    "print(items)"
   ]
  },
  {
   "cell_type": "code",
   "execution_count": 14,
   "id": "fe8703e3",
   "metadata": {},
   "outputs": [
    {
     "name": "stdout",
     "output_type": "stream",
     "text": [
      "{1, 2}\n"
     ]
    }
   ],
   "source": [
    "#While an error is not thrown when you try to add duplicate values to a set, the duplicates are still ignored.\n",
    "items = {1,1,1,2,2}\n",
    "print(items) ## the set will only contain two values"
   ]
  },
  {
   "cell_type": "code",
   "execution_count": 32,
   "id": "b33ffe60",
   "metadata": {},
   "outputs": [
    {
     "name": "stdout",
     "output_type": "stream",
     "text": [
      "{1, 2, 3, 100, 4}\n"
     ]
    }
   ],
   "source": [
    "items = {1,2,3,4}\n",
    "items.add(100) #Don't assume that 100 is being added to the end of the set. Remember, sets are unordered.\n",
    "print(items)"
   ]
  },
  {
   "cell_type": "markdown",
   "id": "d6ec795f",
   "metadata": {},
   "source": [
    "**Python Set: Java Equivalent(s):** \n",
    "*HashSet*\n",
    "\n",
    "Set is a Java interface. One Java implementation of the set interface is the Hashset data structure. Just like in a Python Set, the elements in a Java Hashset must be unique, with duplicate entries being ignored.  In addition, a Java Hashset is unordered and unindexable. Technically, sets can be heterogenous, but should (and usually do) have a parameterized type. "
   ]
  },
  {
   "cell_type": "markdown",
   "id": "71abf45e",
   "metadata": {},
   "source": [
    "#### Java Hashset. Duplicates are ignored.\n",
    "\n",
    "    HashSet values = new HashSet();\n",
    "\tvalues.add(\"Hello\");\n",
    "\tvalues.add(100);\n",
    "\tvalues.add(100);\n",
    "\tvalues.add(true);\n",
    "\tSystem.out.println(values);"
   ]
  },
  {
   "cell_type": "markdown",
   "id": "207ed471",
   "metadata": {},
   "source": [
    "## Dictionary"
   ]
  },
  {
   "cell_type": "markdown",
   "id": "455d6841",
   "metadata": {},
   "source": [
    "### Examples"
   ]
  },
  {
   "cell_type": "code",
   "execution_count": 37,
   "id": "c25d4376",
   "metadata": {},
   "outputs": [
    {
     "name": "stdout",
     "output_type": "stream",
     "text": [
      "{'a': 23, 'b': 45, 'c': 100}\n",
      "3\n"
     ]
    }
   ],
   "source": [
    "items = {'a':23, 'b':45, 'c':100 }\n",
    "print(items)\n",
    "print(len(items))# There are a total of three key-value pairs in the dictionary."
   ]
  },
  {
   "cell_type": "code",
   "execution_count": 39,
   "id": "c1207d56",
   "metadata": {},
   "outputs": [
    {
     "name": "stdout",
     "output_type": "stream",
     "text": [
      "{'Amy': 50, 'Josh': 25, 'Sarah': 100}\n"
     ]
    }
   ],
   "source": [
    "items = {'Amy':50, 'Josh':25, 'Sarah':42, 'Sarah':100 } # Duplicate keys are overridden by new keys\n",
    "print(items)"
   ]
  },
  {
   "cell_type": "code",
   "execution_count": 45,
   "id": "7461a87a",
   "metadata": {},
   "outputs": [
    {
     "name": "stdout",
     "output_type": "stream",
     "text": [
      "50\n",
      "{'Amy': 50, 'Josh': 25, 'Isaiah': '21'}\n"
     ]
    }
   ],
   "source": [
    "items = {'Amy':50, 'Josh':25}\n",
    "print(items['Amy'])#Using the key to retrieve the value, in this case 50\n",
    "\n",
    "items['Isaiah'] = '21' #No add or append method exists for dictionaries, we simply specify a new key and value and it gets added to the dictionary.\n",
    "print(items)"
   ]
  },
  {
   "cell_type": "markdown",
   "id": "d8407069",
   "metadata": {},
   "source": [
    "**Python Dictionary: Java Equivalent(s):** \n",
    "*Hashmap*\n",
    "\n",
    "The Java Hashmap is a Java data structure that stores data in key-value pairs. Like Python dictionaries, Hashmaps can be heterogenous. However in Java, it is common for both the key and value to be parameterized with a data type. With Java HashMaps, duplicate keys override existing keys just like Python dictionaries. Java Hashmaps are unordered. "
   ]
  },
  {
   "cell_type": "markdown",
   "id": "f3462169",
   "metadata": {},
   "source": [
    "### Java Heterogeneous HashMap\n",
    "    HashMap values = new HashMap();\n",
    "\tvalues.put(\"Joe\", 42);\n",
    "\tvalues.put(\"Rachael\", 23);\n",
    "\tvalues.put(\"Mike\", 27);\n",
    "    values.put(true, \"hello\"); //Valid syntax, but you do get a warning that the key and value should be paramaterized\n",
    "\tSystem.out.println(values);"
   ]
  },
  {
   "cell_type": "code",
   "execution_count": null,
   "id": "c7d0e4e4",
   "metadata": {},
   "outputs": [],
   "source": []
  }
 ],
 "metadata": {
  "kernelspec": {
   "display_name": "Python 3",
   "language": "python",
   "name": "python3"
  },
  "language_info": {
   "codemirror_mode": {
    "name": "ipython",
    "version": 3
   },
   "file_extension": ".py",
   "mimetype": "text/x-python",
   "name": "python",
   "nbconvert_exporter": "python",
   "pygments_lexer": "ipython3",
   "version": "3.8.8"
  }
 },
 "nbformat": 4,
 "nbformat_minor": 5
}
